{
  "nbformat": 4,
  "nbformat_minor": 0,
  "metadata": {
    "colab": {
      "name": "question2.ipynb",
      "version": "0.3.2",
      "views": {},
      "default_view": {},
      "provenance": [
        {
          "file_id": "10r19rsWutavEcFR3_5-zJcl9OdYRW0mK",
          "timestamp": 1526981596616
        }
      ]
    },
    "kernelspec": {
      "name": "python3",
      "display_name": "Python 3"
    }
  },
  "cells": [
    {
      "metadata": {
        "id": "VtxoaROBumI0",
        "colab_type": "text"
      },
      "cell_type": "markdown",
      "source": [
        "# Assignment 2: Regression Analysis\n",
        "\n",
        "---\n",
        "\n"
      ]
    },
    {
      "metadata": {
        "id": "Tn2TpC-nTHg_",
        "colab_type": "text"
      },
      "cell_type": "markdown",
      "source": [
        "# Question 1:\n"
      ]
    },
    {
      "metadata": {
        "id": "VkMXU4eBtPtM",
        "colab_type": "text"
      },
      "cell_type": "markdown",
      "source": [
        "Write out the elements of the matrices XtX and XtY in the equation for the pseudo-inverse OLS estimator for parameter vector b = (α, βi)t . The elements of these matrices should be written in terms of the Yi and Xi,j."
      ]
    },
    {
      "metadata": {
        "id": "lHc-SGyltJSx",
        "colab_type": "text"
      },
      "cell_type": "markdown",
      "source": [
        "**Solution**:\n",
        "\n",
        "\n",
        "\n",
        "\\begin{align}\n",
        "\\ X & =\n",
        "    \\begin{pmatrix}\n",
        "    x_{11} & x_{21} & x_{31}  & x_{41}\\\\\n",
        "     x_{12} & x_{22} & x_{32}  & x_{42}\\\\\n",
        "        x_{13} & x_{23} & x_{33}  & x_{43}\\\\\n",
        "     \\\\\n",
        "     x_{1n} & x_{2n} & x_{3n}  & x_{4n}\\\\\n",
        "    \\end{pmatrix}\n",
        "\\\\\n",
        "\\\\\n",
        "\\\\\n",
        "\\ X^\\intercal  & =  \\begin{pmatrix}\n",
        "    x_{11} & x_{12} & x_{13}  & &x_{1n}\\\\\n",
        "     x_{21} & x_{22} & x_{23}  && x_{2n}\\\\\n",
        "      x_{31} & x_{32} & x_{33}  & &x_{3n}\\\\\n",
        "       x_{41} & x_{42} & x_{43}  & &x_{4n}\\\\\n",
        "    \\end{pmatrix}\n",
        "\\\\\n",
        "\\\\\n",
        "\\\\\n",
        "\\ Y & =   \\begin{pmatrix}\n",
        "    y_{1}\\\\\n",
        "     y_{2}\\\\\n",
        "      y_{3} \\\\\n",
        "       y_{4}\\\\\n",
        "       \\\\\n",
        "        y_{n}\\\\\n",
        "    \\end{pmatrix}\n",
        "    \\\\\n",
        "    \\\\\n",
        "    \\\\\n",
        "\\ X^\\intercal X & =  \\begin{pmatrix}\n",
        "    x_{11} x_{11} + x_{12} x_{12} + x_{13} x_{13} +...+x_{1n} x_{1n} & ... &    x_{11} x_{41} + x_{12} x_{42} + x_{13} x_{43}  +..+x_{1n} x_{4n}\\\\\n",
        "&...&\\\\\n",
        "      ... & ... &   x_{41} x_{41} + x_{42} x_{42} + x_{43} x_{43} +...+x_{4n} x_{4n}\\\\\n",
        "    \\end{pmatrix}\n",
        "    \\\\\n",
        "    \\\\\n",
        "    \\\\\n",
        "\\ X^\\intercal Y & =  \\begin{pmatrix}\n",
        "    x_{11}y_1 + x_{12}y_2 + x_{13}y_3 +...+x_{1n}y_n\\\\\n",
        "     x_{21}y_1 + x_{22}y_1 + x_{23}y_3 +...+x_{2n}y_n\\\\\n",
        "      x_{31}y_1 + x_{32}y_1 + x_{33}y_3 +...+x_{3n}y_n\\\\\n",
        "       x_{41}y_1 + x_{42}y_1 + x_{43}y_3 +...+x_{4n}y_n\\\\\n",
        "    \\end{pmatrix}\n",
        "\\end{align}\n",
        "\n"
      ]
    },
    {
      "metadata": {
        "id": "x2_ntGVfTJpD",
        "colab_type": "text"
      },
      "cell_type": "markdown",
      "source": [
        "# Question 2:"
      ]
    },
    {
      "metadata": {
        "id": "VrAmIrdTutGX",
        "colab_type": "text"
      },
      "cell_type": "markdown",
      "source": [
        "**Load data and check simple facts **"
      ]
    },
    {
      "metadata": {
        "id": "C7Z58tNS1ZtH",
        "colab_type": "code",
        "colab": {
          "autoexec": {
            "startup": false,
            "wait_interval": 0
          },
          "base_uri": "https://localhost:8080/",
          "height": 185
        },
        "outputId": "5827a452-9e48-42f1-f5fb-d32ff02106ed",
        "executionInfo": {
          "status": "ok",
          "timestamp": 1526916514987,
          "user_tz": -60,
          "elapsed": 548,
          "user": {
            "displayName": "mohammed Ibrahim",
            "photoUrl": "//lh5.googleusercontent.com/-dcFlmF-U62U/AAAAAAAAAAI/AAAAAAAAADk/KSlRxQEo9To/s50-c-k-no/photo.jpg",
            "userId": "106544428892476440731"
          }
        }
      },
      "cell_type": "code",
      "source": [
        "# Import required library\n",
        "import pandas as pd\n",
        "\n",
        "# Insert data\n",
        "data= [  \n",
        "    [94.19,2.92,9.46,3.71,9.90],[98.59,9.90,0.84,8.15,8.59],[33.40,0.86,0.04,8.22,0.72],[105.71,8.96,5.83,1.31,11.83],\n",
        "    [76.78,5.42,6.13,0.19,9.24],[114.00,6.00,9.88,1.96,12.70],[35.97,0.24,2.58,4.61,2.25],[113.87,7.47,8.17,3.13,12.51],\n",
        "    [36.64,2.71,0.01,4.57,2.17],[83.47,1.00,8.84,6.14,7.87],[71.61,3.10,6.95,1.49,8.04],[149.66,9.06,9.96,8.07,15.22],\n",
        "    [143.41,9.82,8.61,6.96,14.74],[98.65,9.43,3.78,2.16,10.57],[95.02,3.65,9.34,2.34,10.40],[78.02,8.15,0.41,5.78,6.85],\n",
        "    [51.74,3.80,3.46,0.74,5.81],[55.66,6.26,0.01,2.52,5.01],[145.37,9.86,8.75,7.28,14.89],[98.38,9.19,4.54,0.78,10.98],\n",
        "    [101.18,3.97,9.95,2.03,11.14],[49.31,5.59,0.26,1.11,4.68],[130.47,8.46,8.79,5.24,13.80],[85.31,8.45,2.13,3.96,8.47],\n",
        "    [33.49,0.28,0.83,7.87,0.89],[138.09,9.62,8.33,6.15,14.36],[100.67,9.93,2.14,5.64,9.66],[47.00,2.95,3.13,1.53,4.87],\n",
        "    [36.75,1.68,0.92,5.41,2.08],[100.14,3.69,9.91,2.58,10.88],[64.62,7.04,0.07,4.03,5.69],[122.44,9.20,7.26,3.80,13.17],\n",
        "    [86.21,8.90,0.18,7.53,7.27],[39.89,1.06,3.13,2.95,3.35],[48.31,2.49,4.04,0.96,5.23],[34.18,1.33,0.03,7.29,1.09],\n",
        "    [96.96,7.13,6.70,1.45,11.07],[44.35,0.07,5.42,0.83,4.40],[38.75,2.80,0.67,3.81,2.77],[94.64,0.21,10.00,9.57,8.17],\n",
        "    [41.55,1.72,2.85,2.82,3.66],[40.40,0.61,4.09,1.59,3.76] \n",
        "]\n",
        "# Assign column attributes as in excel\n",
        "df = pd.DataFrame(data,columns=['Y','X1','X2','X3','X4'])\n",
        "\n",
        "# Check facts\n",
        "df.info()"
      ],
      "execution_count": 0,
      "outputs": [
        {
          "output_type": "stream",
          "text": [
            "<class 'pandas.core.frame.DataFrame'>\n",
            "RangeIndex: 42 entries, 0 to 41\n",
            "Data columns (total 5 columns):\n",
            "Y     42 non-null float64\n",
            "X1    42 non-null float64\n",
            "X2    42 non-null float64\n",
            "X3    42 non-null float64\n",
            "X4    42 non-null float64\n",
            "dtypes: float64(5)\n",
            "memory usage: 1.7 KB\n"
          ],
          "name": "stdout"
        }
      ]
    },
    {
      "metadata": {
        "id": "m4o7_xLnxyir",
        "colab_type": "text"
      },
      "cell_type": "markdown",
      "source": [
        "**About the data**\n",
        "\n",
        "\n",
        "*   No Missing Values\n",
        "*   N > 20 ... Should be okay\n",
        "\n"
      ]
    },
    {
      "metadata": {
        "id": "bWx2d9OZ2cUO",
        "colab_type": "code",
        "colab": {
          "autoexec": {
            "startup": false,
            "wait_interval": 0
          },
          "base_uri": "https://localhost:8080/",
          "height": 905
        },
        "outputId": "d797977e-2317-4e58-eb12-4e19b6f9ef87",
        "executionInfo": {
          "status": "ok",
          "timestamp": 1526924768091,
          "user_tz": -60,
          "elapsed": 16952,
          "user": {
            "displayName": "mohammed Ibrahim",
            "photoUrl": "//lh5.googleusercontent.com/-dcFlmF-U62U/AAAAAAAAAAI/AAAAAAAAADk/KSlRxQEo9To/s50-c-k-no/photo.jpg",
            "userId": "106544428892476440731"
          }
        }
      },
      "cell_type": "code",
      "source": [
        "%matplotlib inline\n",
        "#Check how data locks like in distribution\n",
        "import seaborn as sns\n",
        "sns.pairplot(df, hue=\"Y\")\n",
        "sns.plt.show()"
      ],
      "execution_count": 0,
      "outputs": [
        {
          "output_type": "display_data",
          "data": {
            "image/png": "[encoded data removed]",
            "text/plain": [
              "<matplotlib.figure.Figure at 0x7fae51ecdf60>"
            ]
          },
          "metadata": {
            "tags": []
          }
        }
      ]
    },
    {
      "metadata": {
        "id": "xv0Nir3g3RFu",
        "colab_type": "text"
      },
      "cell_type": "markdown",
      "source": [
        "The scatter plot matrix shows all possible two-way scatter plots for the five variables. \n",
        "\n",
        "**By just looking **at the scatter plot,\n",
        "\n",
        "*   We can see a pretty strong linear relationship between Y and X4.\n",
        "*   X3  skewed to the left.\n",
        "*   X1, X2 have a few values\n",
        "\n",
        "\n",
        "\n",
        "\n"
      ]
    },
    {
      "metadata": {
        "id": "4rIsktK1n0VJ",
        "colab_type": "text"
      },
      "cell_type": "markdown",
      "source": [
        "# ***Calculate OLS estimator b***"
      ]
    },
    {
      "metadata": {
        "id": "jrp2ofoFmg5_",
        "colab_type": "code",
        "colab": {
          "autoexec": {
            "startup": false,
            "wait_interval": 0
          },
          "base_uri": "https://localhost:8080/",
          "height": 353
        },
        "outputId": "4a61a249-049d-485b-a8ca-ef4a58aeb3ab",
        "executionInfo": {
          "status": "ok",
          "timestamp": 1526922454097,
          "user_tz": -60,
          "elapsed": 468,
          "user": {
            "displayName": "mohammed Ibrahim",
            "photoUrl": "//lh5.googleusercontent.com/-dcFlmF-U62U/AAAAAAAAAAI/AAAAAAAAADk/KSlRxQEo9To/s50-c-k-no/photo.jpg",
            "userId": "106544428892476440731"
          }
        }
      },
      "cell_type": "code",
      "source": [
        "import numpy as np\n",
        "from numpy.linalg import inv\n",
        "\n",
        "\n",
        "X  = df.drop([ 'Y'],axis=1).values\n",
        "Xt = np.transpose(X)\n",
        "Y  = df.drop([ 'X1','X2','X3','X4'],axis=1).values\n",
        "print (\"Xt * X = \")\n",
        "print (np.dot(Xt,X))\n",
        "print (\"Xt * Y = \")\n",
        "print (np.dot(Xt,Y))\n",
        "print (\"( Xt * Y )-1= \")\n",
        "print (  inv(    np.dot(Xt,X)   )    )\n",
        "print (\"b = \")\n",
        "print (  inv(    np.dot(Xt,X)   ) * np.dot(Xt,Y)   )"
      ],
      "execution_count": 0,
      "outputs": [
        {
          "output_type": "stream",
          "text": [
            "Xt * X = \n",
            "[[1600.1482 1085.9585  892.767  2149.0514]\n",
            " [1085.9585 1486.2142  764.8118 2057.9189]\n",
            " [ 892.767   764.8118  950.6728 1326.1622]\n",
            " [2149.0514 2057.9189 1326.1622 3365.8543]]\n",
            "Xt * Y = \n",
            "[[21035.6975]\n",
            " [19654.4312]\n",
            " [14210.2872]\n",
            " [32554.7341]]\n",
            "( Xt * Y )-1= \n",
            "[[ 1.04513336e+03  1.04518967e+03 -2.56712466e-02 -1.30633309e+03]\n",
            " [ 1.04518967e+03  1.04525047e+03 -2.51907396e-02 -1.30640641e+03]\n",
            " [-2.56712466e-02 -2.51907396e-02  2.38800564e-03  3.08517350e-02]\n",
            " [-1.30633309e+03 -1.30640641e+03  3.08517350e-02  1.63281443e+03]]\n",
            "b = \n",
            "[[ 2.19851092e+07  2.19862938e+07 -5.40012579e+02 -2.74796277e+07]\n",
            " [ 2.05426085e+07  2.05438035e+07 -4.95109659e+02 -2.56766748e+07]\n",
            " [-3.64795788e+02 -3.57967645e+02  3.39342460e+01  4.38412015e+02]\n",
            " [-4.25273264e+07 -4.25297132e+07  1.00437003e+03  5.31558397e+07]]\n"
          ],
          "name": "stdout"
        }
      ]
    },
    {
      "metadata": {
        "id": "TXKFHpIKS6cO",
        "colab_type": "text"
      },
      "cell_type": "markdown",
      "source": [
        "#  Question 3 \n",
        "**TESTING NULL HYPOTHESIS **:\n",
        "\n",
        "**H0:** There is no relationship between soil variables and the tomato fruits weight. \n",
        "(X variables are not useful for predicting fruits weight, Y) \n",
        "\n",
        "**H1**: At least one X variable is useful for predicting fruits weight , Y"
      ]
    },
    {
      "metadata": {
        "id": "ApBE1a67Tkc6",
        "colab_type": "text"
      },
      "cell_type": "markdown",
      "source": [
        "This hypothesis will be tested using both correlation and multiple regression models. "
      ]
    },
    {
      "metadata": {
        "id": "xPRf9_z29KZ_",
        "colab_type": "text"
      },
      "cell_type": "markdown",
      "source": [
        "***Load only X3 and X4***"
      ]
    },
    {
      "metadata": {
        "id": "lGdMJIhf9Jn6",
        "colab_type": "code",
        "colab": {
          "autoexec": {
            "startup": false,
            "wait_interval": 0
          }
        }
      },
      "cell_type": "code",
      "source": [
        "X34= df.drop([ 'X1','X2'],axis=1)"
      ],
      "execution_count": 0,
      "outputs": []
    },
    {
      "metadata": {
        "id": "WlXJ94Hsc7ga",
        "colab_type": "text"
      },
      "cell_type": "markdown",
      "source": [
        "** Calculate Pearson Correlation between all  columns of the data frame**"
      ]
    },
    {
      "metadata": {
        "id": "lh-3ftsjeXNO",
        "colab_type": "code",
        "colab": {
          "autoexec": {
            "startup": false,
            "wait_interval": 0
          },
          "base_uri": "https://localhost:8080/",
          "height": 136
        },
        "outputId": "5ea50f1e-e7bb-4677-f00f-b0f7dda5e0dc",
        "executionInfo": {
          "status": "ok",
          "timestamp": 1526910521025,
          "user_tz": -60,
          "elapsed": 740,
          "user": {
            "displayName": "mohammed Ibrahim",
            "photoUrl": "//lh5.googleusercontent.com/-dcFlmF-U62U/AAAAAAAAAAI/AAAAAAAAADk/KSlRxQEo9To/s50-c-k-no/photo.jpg",
            "userId": "106544428892476440731"
          }
        }
      },
      "cell_type": "code",
      "source": [
        "# pairwise correlation\n",
        "X34.corr(method='spearman')"
      ],
      "execution_count": 0,
      "outputs": [
        {
          "output_type": "execute_result",
          "data": {
            "text/html": [
              "<div>\n",
              "<style scoped>\n",
              "    .dataframe tbody tr th:only-of-type {\n",
              "        vertical-align: middle;\n",
              "    }\n",
              "\n",
              "    .dataframe tbody tr th {\n",
              "        vertical-align: top;\n",
              "    }\n",
              "\n",
              "    .dataframe thead th {\n",
              "        text-align: right;\n",
              "    }\n",
              "</style>\n",
              "<table border=\"1\" class=\"dataframe\">\n",
              "  <thead>\n",
              "    <tr style=\"text-align: right;\">\n",
              "      <th></th>\n",
              "      <th>Y</th>\n",
              "      <th>X3</th>\n",
              "      <th>X4</th>\n",
              "    </tr>\n",
              "  </thead>\n",
              "  <tbody>\n",
              "    <tr>\n",
              "      <th>Y</th>\n",
              "      <td>1.000000</td>\n",
              "      <td>0.064581</td>\n",
              "      <td>0.982659</td>\n",
              "    </tr>\n",
              "    <tr>\n",
              "      <th>X3</th>\n",
              "      <td>0.064581</td>\n",
              "      <td>1.000000</td>\n",
              "      <td>-0.038490</td>\n",
              "    </tr>\n",
              "    <tr>\n",
              "      <th>X4</th>\n",
              "      <td>0.982659</td>\n",
              "      <td>-0.038490</td>\n",
              "      <td>1.000000</td>\n",
              "    </tr>\n",
              "  </tbody>\n",
              "</table>\n",
              "</div>"
            ],
            "text/plain": [
              "           Y        X3        X4\n",
              "Y   1.000000  0.064581  0.982659\n",
              "X3  0.064581  1.000000 -0.038490\n",
              "X4  0.982659 -0.038490  1.000000"
            ]
          },
          "metadata": {
            "tags": []
          },
          "execution_count": 49
        }
      ]
    },
    {
      "metadata": {
        "id": "s4w3hULzcZHI",
        "colab_type": "code",
        "colab": {
          "autoexec": {
            "startup": false,
            "wait_interval": 0
          },
          "base_uri": "https://localhost:8080/",
          "height": 98
        },
        "cellView": "both",
        "outputId": "8dfe326a-3ee3-4bf6-ea17-eab49ec131c4",
        "executionInfo": {
          "status": "ok",
          "timestamp": 1526910523996,
          "user_tz": -60,
          "elapsed": 594,
          "user": {
            "displayName": "mohammed Ibrahim",
            "photoUrl": "//lh5.googleusercontent.com/-dcFlmF-U62U/AAAAAAAAAAI/AAAAAAAAADk/KSlRxQEo9To/s50-c-k-no/photo.jpg",
            "userId": "106544428892476440731"
          }
        }
      },
      "cell_type": "code",
      "source": [
        "# pairwise correlation - Colored: Blue means Weak, where Red means strong.\n",
        "X34.corr(method='spearman').style.format(\"{:.5}\").background_gradient(cmap=plt.get_cmap('coolwarm'), axis=1)"
      ],
      "execution_count": 0,
      "outputs": [
        {
          "output_type": "execute_result",
          "data": {
            "text/html": [
              "<style  type=\"text/css\" >\n",
              "    #T_cede4848_5cfd_11e8_b74a_0242ac110002row0_col0 {\n",
              "            background-color:  #b40426;\n",
              "        }    #T_cede4848_5cfd_11e8_b74a_0242ac110002row0_col1 {\n",
              "            background-color:  #3b4cc0;\n",
              "        }    #T_cede4848_5cfd_11e8_b74a_0242ac110002row0_col2 {\n",
              "            background-color:  #ba162b;\n",
              "        }    #T_cede4848_5cfd_11e8_b74a_0242ac110002row1_col0 {\n",
              "            background-color:  #5977e3;\n",
              "        }    #T_cede4848_5cfd_11e8_b74a_0242ac110002row1_col1 {\n",
              "            background-color:  #b40426;\n",
              "        }    #T_cede4848_5cfd_11e8_b74a_0242ac110002row1_col2 {\n",
              "            background-color:  #3b4cc0;\n",
              "        }    #T_cede4848_5cfd_11e8_b74a_0242ac110002row2_col0 {\n",
              "            background-color:  #ba162b;\n",
              "        }    #T_cede4848_5cfd_11e8_b74a_0242ac110002row2_col1 {\n",
              "            background-color:  #3b4cc0;\n",
              "        }    #T_cede4848_5cfd_11e8_b74a_0242ac110002row2_col2 {\n",
              "            background-color:  #b40426;\n",
              "        }</style>  \n",
              "<table id=\"T_cede4848_5cfd_11e8_b74a_0242ac110002\" > \n",
              "<thead>    <tr> \n",
              "        <th class=\"blank level0\" ></th> \n",
              "        <th class=\"col_heading level0 col0\" >Y</th> \n",
              "        <th class=\"col_heading level0 col1\" >X3</th> \n",
              "        <th class=\"col_heading level0 col2\" >X4</th> \n",
              "    </tr></thead> \n",
              "<tbody>    <tr> \n",
              "        <th id=\"T_cede4848_5cfd_11e8_b74a_0242ac110002level0_row0\" class=\"row_heading level0 row0\" >Y</th> \n",
              "        <td id=\"T_cede4848_5cfd_11e8_b74a_0242ac110002row0_col0\" class=\"data row0 col0\" >1.0</td> \n",
              "        <td id=\"T_cede4848_5cfd_11e8_b74a_0242ac110002row0_col1\" class=\"data row0 col1\" >0.064581</td> \n",
              "        <td id=\"T_cede4848_5cfd_11e8_b74a_0242ac110002row0_col2\" class=\"data row0 col2\" >0.98266</td> \n",
              "    </tr>    <tr> \n",
              "        <th id=\"T_cede4848_5cfd_11e8_b74a_0242ac110002level0_row1\" class=\"row_heading level0 row1\" >X3</th> \n",
              "        <td id=\"T_cede4848_5cfd_11e8_b74a_0242ac110002row1_col0\" class=\"data row1 col0\" >0.064581</td> \n",
              "        <td id=\"T_cede4848_5cfd_11e8_b74a_0242ac110002row1_col1\" class=\"data row1 col1\" >1.0</td> \n",
              "        <td id=\"T_cede4848_5cfd_11e8_b74a_0242ac110002row1_col2\" class=\"data row1 col2\" >-0.03849</td> \n",
              "    </tr>    <tr> \n",
              "        <th id=\"T_cede4848_5cfd_11e8_b74a_0242ac110002level0_row2\" class=\"row_heading level0 row2\" >X4</th> \n",
              "        <td id=\"T_cede4848_5cfd_11e8_b74a_0242ac110002row2_col0\" class=\"data row2 col0\" >0.98266</td> \n",
              "        <td id=\"T_cede4848_5cfd_11e8_b74a_0242ac110002row2_col1\" class=\"data row2 col1\" >-0.03849</td> \n",
              "        <td id=\"T_cede4848_5cfd_11e8_b74a_0242ac110002row2_col2\" class=\"data row2 col2\" >1.0</td> \n",
              "    </tr></tbody> \n",
              "</table> "
            ],
            "text/plain": [
              "<pandas.io.formats.style.Styler at 0x7fae323b3b00>"
            ]
          },
          "metadata": {
            "tags": []
          },
          "execution_count": 50
        }
      ]
    },
    {
      "metadata": {
        "id": "Q3lbF_w8dA2r",
        "colab_type": "text"
      },
      "cell_type": "markdown",
      "source": [
        "***Finding***: \n",
        "\n",
        "*   There seems to be strong positive correlation between Y and X4. Wheres it is weak weak with X3.\n",
        "*   No sign of Multicollinearity between X3 and X4. Which is good and give a relaibility to the coefficient estimates."
      ]
    },
    {
      "metadata": {
        "id": "Z0i_N7gfmkKm",
        "colab_type": "text"
      },
      "cell_type": "markdown",
      "source": [
        "**MULTIPLE REGRESSION ANALYSIS **"
      ]
    },
    {
      "metadata": {
        "id": "NVupmpcT_3wT",
        "colab_type": "text"
      },
      "cell_type": "markdown",
      "source": [
        "The correlation analysis showed that some of the soil variables were highly interrelated **however it is not known how important these variables were in explaining the variations in fruits weight.** For that we need regression."
      ]
    },
    {
      "metadata": {
        "id": "59sSSMgWmnpo",
        "colab_type": "code",
        "colab": {
          "autoexec": {
            "startup": false,
            "wait_interval": 0
          },
          "base_uri": "https://localhost:8080/",
          "height": 454
        },
        "outputId": "3d819a1a-5293-4317-f8c5-baf38ebc8bb2",
        "executionInfo": {
          "status": "ok",
          "timestamp": 1526914416016,
          "user_tz": -60,
          "elapsed": 504,
          "user": {
            "displayName": "mohammed Ibrahim",
            "photoUrl": "//lh5.googleusercontent.com/-dcFlmF-U62U/AAAAAAAAAAI/AAAAAAAAADk/KSlRxQEo9To/s50-c-k-no/photo.jpg",
            "userId": "106544428892476440731"
          }
        }
      },
      "cell_type": "code",
      "source": [
        "import statsmodels.api as sm\n",
        "\n",
        "X34= df.drop([ 'Y','X1','X2'],axis=1)\n",
        "\n",
        "X34 = sm.add_constant(X34) \n",
        "\n",
        "model = sm.OLS(df.Y, X34).fit()\n",
        "\n",
        "print (model.summary())\n"
      ],
      "execution_count": 0,
      "outputs": [
        {
          "output_type": "stream",
          "text": [
            "                            OLS Regression Results                            \n",
            "==============================================================================\n",
            "Dep. Variable:                      Y   R-squared:                       0.998\n",
            "Model:                            OLS   Adj. R-squared:                  0.998\n",
            "Method:                 Least Squares   F-statistic:                     9401.\n",
            "Date:                Mon, 21 May 2018   Prob (F-statistic):           4.58e-53\n",
            "Time:                        14:54:32   Log-Likelihood:                -79.217\n",
            "No. Observations:                  42   AIC:                             164.4\n",
            "Df Residuals:                      39   BIC:                             169.6\n",
            "Df Model:                           2                                         \n",
            "Covariance Type:            nonrobust                                         \n",
            "==============================================================================\n",
            "                 coef    std err          t      P>|t|      [0.025      0.975]\n",
            "------------------------------------------------------------------------------\n",
            "const          5.4118      0.668      8.096      0.000       4.060       6.764\n",
            "X3             2.7519      0.100     27.641      0.000       2.550       2.953\n",
            "X4             8.0560      0.060    134.239      0.000       7.935       8.177\n",
            "==============================================================================\n",
            "Omnibus:                        0.378   Durbin-Watson:                   2.395\n",
            "Prob(Omnibus):                  0.828   Jarque-Bera (JB):                0.546\n",
            "Skew:                          -0.135   Prob(JB):                        0.761\n",
            "Kurtosis:                       2.511   Cond. No.                         25.6\n",
            "==============================================================================\n",
            "\n",
            "Warnings:\n",
            "[1] Standard Errors assume that the covariance matrix of the errors is correctly specified.\n"
          ],
          "name": "stdout"
        }
      ]
    },
    {
      "metadata": {
        "id": "RkMJuQEaInYk",
        "colab_type": "code",
        "colab": {
          "autoexec": {
            "startup": false,
            "wait_interval": 0
          },
          "base_uri": "https://localhost:8080/",
          "height": 34
        },
        "outputId": "3f4b5413-67f2-4868-f127-445d1048c658",
        "executionInfo": {
          "status": "ok",
          "timestamp": 1526914417529,
          "user_tz": -60,
          "elapsed": 569,
          "user": {
            "displayName": "mohammed Ibrahim",
            "photoUrl": "//lh5.googleusercontent.com/-dcFlmF-U62U/AAAAAAAAAAI/AAAAAAAAADk/KSlRxQEo9To/s50-c-k-no/photo.jpg",
            "userId": "106544428892476440731"
          }
        }
      },
      "cell_type": "code",
      "source": [
        "'{0:.55f}'.format(model.f_pvalue)"
      ],
      "execution_count": 0,
      "outputs": [
        {
          "output_type": "execute_result",
          "data": {
            "text/plain": [
              "'0.0000000000000000000000000000000000000000000000000000458'"
            ]
          },
          "metadata": {
            "tags": []
          },
          "execution_count": 75
        }
      ]
    },
    {
      "metadata": {
        "id": "YhFTgf0W-qzc",
        "colab_type": "text"
      },
      "cell_type": "markdown",
      "source": [
        "**Finding: **\n",
        "\n",
        "\n",
        "*   F-statistics was significant and the overall explanatory power of the equation as in R2 is 99% which is very high.\n",
        "*   Both of the coefficients of X3 & X4 are non zero.\n",
        "*   T-value for X3 & X4 are siginificant from zero. Especially X4 with very hight t-value. Which means the impact of X4 on Y is very high.\n",
        "\n"
      ]
    },
    {
      "metadata": {
        "id": "xVXyzq7aIDTP",
        "colab_type": "text"
      },
      "cell_type": "markdown",
      "source": [
        "*The F-statistic is 9401 and its associated  p-value is (0.000000000000000000000000000000000000000000000000000046) <<< significance level *\n",
        "\n",
        "**So we reject  H0**"
      ]
    },
    {
      "metadata": {
        "id": "F_tsiP9L9n00",
        "colab_type": "text"
      },
      "cell_type": "markdown",
      "source": [
        "# Question 4\n",
        "**TESTING NULL HYPOTHESIS **:\n",
        "\n",
        "**H0:** There is no relationship between soil variables and the tomato fruits weight. \n",
        "(X variables are not useful for predicting fruits weight, Y) \n",
        "\n",
        "**H1**: At least one X variable is useful for predicting fruits weight , Y"
      ]
    },
    {
      "metadata": {
        "id": "k4QLzQUx9192",
        "colab_type": "text"
      },
      "cell_type": "markdown",
      "source": [
        "** Calculate Pearson Correlation between all  columns of the data frame**"
      ]
    },
    {
      "metadata": {
        "id": "Mbx5TbRh9194",
        "colab_type": "code",
        "colab": {
          "autoexec": {
            "startup": false,
            "wait_interval": 0
          },
          "base_uri": "https://localhost:8080/",
          "height": 195
        },
        "outputId": "074ea48e-b641-4685-9f1c-987b604c24de",
        "executionInfo": {
          "status": "ok",
          "timestamp": 1526910657237,
          "user_tz": -60,
          "elapsed": 748,
          "user": {
            "displayName": "mohammed Ibrahim",
            "photoUrl": "//lh5.googleusercontent.com/-dcFlmF-U62U/AAAAAAAAAAI/AAAAAAAAADk/KSlRxQEo9To/s50-c-k-no/photo.jpg",
            "userId": "106544428892476440731"
          }
        }
      },
      "cell_type": "code",
      "source": [
        "# pairwise correlation\n",
        "df.corr(method='spearman')"
      ],
      "execution_count": 0,
      "outputs": [
        {
          "output_type": "execute_result",
          "data": {
            "text/html": [
              "<div>\n",
              "<style scoped>\n",
              "    .dataframe tbody tr th:only-of-type {\n",
              "        vertical-align: middle;\n",
              "    }\n",
              "\n",
              "    .dataframe tbody tr th {\n",
              "        vertical-align: top;\n",
              "    }\n",
              "\n",
              "    .dataframe thead th {\n",
              "        text-align: right;\n",
              "    }\n",
              "</style>\n",
              "<table border=\"1\" class=\"dataframe\">\n",
              "  <thead>\n",
              "    <tr style=\"text-align: right;\">\n",
              "      <th></th>\n",
              "      <th>Y</th>\n",
              "      <th>X1</th>\n",
              "      <th>X2</th>\n",
              "      <th>X3</th>\n",
              "      <th>X4</th>\n",
              "    </tr>\n",
              "  </thead>\n",
              "  <tbody>\n",
              "    <tr>\n",
              "      <th>Y</th>\n",
              "      <td>1.000000</td>\n",
              "      <td>0.785755</td>\n",
              "      <td>0.683144</td>\n",
              "      <td>0.064581</td>\n",
              "      <td>0.982659</td>\n",
              "    </tr>\n",
              "    <tr>\n",
              "      <th>X1</th>\n",
              "      <td>0.785755</td>\n",
              "      <td>1.000000</td>\n",
              "      <td>0.126499</td>\n",
              "      <td>0.072360</td>\n",
              "      <td>0.746860</td>\n",
              "    </tr>\n",
              "    <tr>\n",
              "      <th>X2</th>\n",
              "      <td>0.683144</td>\n",
              "      <td>0.126499</td>\n",
              "      <td>1.000000</td>\n",
              "      <td>-0.120097</td>\n",
              "      <td>0.736386</td>\n",
              "    </tr>\n",
              "    <tr>\n",
              "      <th>X3</th>\n",
              "      <td>0.064581</td>\n",
              "      <td>0.072360</td>\n",
              "      <td>-0.120097</td>\n",
              "      <td>1.000000</td>\n",
              "      <td>-0.038490</td>\n",
              "    </tr>\n",
              "    <tr>\n",
              "      <th>X4</th>\n",
              "      <td>0.982659</td>\n",
              "      <td>0.746860</td>\n",
              "      <td>0.736386</td>\n",
              "      <td>-0.038490</td>\n",
              "      <td>1.000000</td>\n",
              "    </tr>\n",
              "  </tbody>\n",
              "</table>\n",
              "</div>"
            ],
            "text/plain": [
              "           Y        X1        X2        X3        X4\n",
              "Y   1.000000  0.785755  0.683144  0.064581  0.982659\n",
              "X1  0.785755  1.000000  0.126499  0.072360  0.746860\n",
              "X2  0.683144  0.126499  1.000000 -0.120097  0.736386\n",
              "X3  0.064581  0.072360 -0.120097  1.000000 -0.038490\n",
              "X4  0.982659  0.746860  0.736386 -0.038490  1.000000"
            ]
          },
          "metadata": {
            "tags": []
          },
          "execution_count": 51
        }
      ]
    },
    {
      "metadata": {
        "id": "16_BvwXO91-C",
        "colab_type": "code",
        "colab": {
          "autoexec": {
            "startup": false,
            "wait_interval": 0
          },
          "base_uri": "https://localhost:8080/",
          "height": 138
        },
        "cellView": "both",
        "outputId": "ddcd64a1-4638-4b68-ae11-5801abb119cc",
        "executionInfo": {
          "status": "ok",
          "timestamp": 1526910659281,
          "user_tz": -60,
          "elapsed": 529,
          "user": {
            "displayName": "mohammed Ibrahim",
            "photoUrl": "//lh5.googleusercontent.com/-dcFlmF-U62U/AAAAAAAAAAI/AAAAAAAAADk/KSlRxQEo9To/s50-c-k-no/photo.jpg",
            "userId": "106544428892476440731"
          }
        }
      },
      "cell_type": "code",
      "source": [
        "# pairwise correlation - Colored: Blue means Weak, where Red means strong.\n",
        "df.corr(method='spearman').style.format(\"{:.5}\").background_gradient(cmap=plt.get_cmap('coolwarm'), axis=1)"
      ],
      "execution_count": 0,
      "outputs": [
        {
          "output_type": "execute_result",
          "data": {
            "text/html": [
              "<style  type=\"text/css\" >\n",
              "    #T_1f8a5372_5cfe_11e8_b74a_0242ac110002row0_col0 {\n",
              "            background-color:  #b40426;\n",
              "        }    #T_1f8a5372_5cfe_11e8_b74a_0242ac110002row0_col1 {\n",
              "            background-color:  #f29072;\n",
              "        }    #T_1f8a5372_5cfe_11e8_b74a_0242ac110002row0_col2 {\n",
              "            background-color:  #f7b99e;\n",
              "        }    #T_1f8a5372_5cfe_11e8_b74a_0242ac110002row0_col3 {\n",
              "            background-color:  #3b4cc0;\n",
              "        }    #T_1f8a5372_5cfe_11e8_b74a_0242ac110002row0_col4 {\n",
              "            background-color:  #ba162b;\n",
              "        }    #T_1f8a5372_5cfe_11e8_b74a_0242ac110002row1_col0 {\n",
              "            background-color:  #f29274;\n",
              "        }    #T_1f8a5372_5cfe_11e8_b74a_0242ac110002row1_col1 {\n",
              "            background-color:  #b40426;\n",
              "        }    #T_1f8a5372_5cfe_11e8_b74a_0242ac110002row1_col2 {\n",
              "            background-color:  #4b64d5;\n",
              "        }    #T_1f8a5372_5cfe_11e8_b74a_0242ac110002row1_col3 {\n",
              "            background-color:  #3b4cc0;\n",
              "        }    #T_1f8a5372_5cfe_11e8_b74a_0242ac110002row1_col4 {\n",
              "            background-color:  #f6a283;\n",
              "        }    #T_1f8a5372_5cfe_11e8_b74a_0242ac110002row2_col0 {\n",
              "            background-color:  #f7a688;\n",
              "        }    #T_1f8a5372_5cfe_11e8_b74a_0242ac110002row2_col1 {\n",
              "            background-color:  #82a6fb;\n",
              "        }    #T_1f8a5372_5cfe_11e8_b74a_0242ac110002row2_col2 {\n",
              "            background-color:  #b40426;\n",
              "        }    #T_1f8a5372_5cfe_11e8_b74a_0242ac110002row2_col3 {\n",
              "            background-color:  #3b4cc0;\n",
              "        }    #T_1f8a5372_5cfe_11e8_b74a_0242ac110002row2_col4 {\n",
              "            background-color:  #f39475;\n",
              "        }    #T_1f8a5372_5cfe_11e8_b74a_0242ac110002row3_col0 {\n",
              "            background-color:  #6f92f3;\n",
              "        }    #T_1f8a5372_5cfe_11e8_b74a_0242ac110002row3_col1 {\n",
              "            background-color:  #7093f3;\n",
              "        }    #T_1f8a5372_5cfe_11e8_b74a_0242ac110002row3_col2 {\n",
              "            background-color:  #3b4cc0;\n",
              "        }    #T_1f8a5372_5cfe_11e8_b74a_0242ac110002row3_col3 {\n",
              "            background-color:  #b40426;\n",
              "        }    #T_1f8a5372_5cfe_11e8_b74a_0242ac110002row3_col4 {\n",
              "            background-color:  #506bda;\n",
              "        }    #T_1f8a5372_5cfe_11e8_b74a_0242ac110002row4_col0 {\n",
              "            background-color:  #ba162b;\n",
              "        }    #T_1f8a5372_5cfe_11e8_b74a_0242ac110002row4_col1 {\n",
              "            background-color:  #f39778;\n",
              "        }    #T_1f8a5372_5cfe_11e8_b74a_0242ac110002row4_col2 {\n",
              "            background-color:  #f49a7b;\n",
              "        }    #T_1f8a5372_5cfe_11e8_b74a_0242ac110002row4_col3 {\n",
              "            background-color:  #3b4cc0;\n",
              "        }    #T_1f8a5372_5cfe_11e8_b74a_0242ac110002row4_col4 {\n",
              "            background-color:  #b40426;\n",
              "        }</style>  \n",
              "<table id=\"T_1f8a5372_5cfe_11e8_b74a_0242ac110002\" > \n",
              "<thead>    <tr> \n",
              "        <th class=\"blank level0\" ></th> \n",
              "        <th class=\"col_heading level0 col0\" >Y</th> \n",
              "        <th class=\"col_heading level0 col1\" >X1</th> \n",
              "        <th class=\"col_heading level0 col2\" >X2</th> \n",
              "        <th class=\"col_heading level0 col3\" >X3</th> \n",
              "        <th class=\"col_heading level0 col4\" >X4</th> \n",
              "    </tr></thead> \n",
              "<tbody>    <tr> \n",
              "        <th id=\"T_1f8a5372_5cfe_11e8_b74a_0242ac110002level0_row0\" class=\"row_heading level0 row0\" >Y</th> \n",
              "        <td id=\"T_1f8a5372_5cfe_11e8_b74a_0242ac110002row0_col0\" class=\"data row0 col0\" >1.0</td> \n",
              "        <td id=\"T_1f8a5372_5cfe_11e8_b74a_0242ac110002row0_col1\" class=\"data row0 col1\" >0.78575</td> \n",
              "        <td id=\"T_1f8a5372_5cfe_11e8_b74a_0242ac110002row0_col2\" class=\"data row0 col2\" >0.68314</td> \n",
              "        <td id=\"T_1f8a5372_5cfe_11e8_b74a_0242ac110002row0_col3\" class=\"data row0 col3\" >0.064581</td> \n",
              "        <td id=\"T_1f8a5372_5cfe_11e8_b74a_0242ac110002row0_col4\" class=\"data row0 col4\" >0.98266</td> \n",
              "    </tr>    <tr> \n",
              "        <th id=\"T_1f8a5372_5cfe_11e8_b74a_0242ac110002level0_row1\" class=\"row_heading level0 row1\" >X1</th> \n",
              "        <td id=\"T_1f8a5372_5cfe_11e8_b74a_0242ac110002row1_col0\" class=\"data row1 col0\" >0.78575</td> \n",
              "        <td id=\"T_1f8a5372_5cfe_11e8_b74a_0242ac110002row1_col1\" class=\"data row1 col1\" >1.0</td> \n",
              "        <td id=\"T_1f8a5372_5cfe_11e8_b74a_0242ac110002row1_col2\" class=\"data row1 col2\" >0.1265</td> \n",
              "        <td id=\"T_1f8a5372_5cfe_11e8_b74a_0242ac110002row1_col3\" class=\"data row1 col3\" >0.07236</td> \n",
              "        <td id=\"T_1f8a5372_5cfe_11e8_b74a_0242ac110002row1_col4\" class=\"data row1 col4\" >0.74686</td> \n",
              "    </tr>    <tr> \n",
              "        <th id=\"T_1f8a5372_5cfe_11e8_b74a_0242ac110002level0_row2\" class=\"row_heading level0 row2\" >X2</th> \n",
              "        <td id=\"T_1f8a5372_5cfe_11e8_b74a_0242ac110002row2_col0\" class=\"data row2 col0\" >0.68314</td> \n",
              "        <td id=\"T_1f8a5372_5cfe_11e8_b74a_0242ac110002row2_col1\" class=\"data row2 col1\" >0.1265</td> \n",
              "        <td id=\"T_1f8a5372_5cfe_11e8_b74a_0242ac110002row2_col2\" class=\"data row2 col2\" >1.0</td> \n",
              "        <td id=\"T_1f8a5372_5cfe_11e8_b74a_0242ac110002row2_col3\" class=\"data row2 col3\" >-0.1201</td> \n",
              "        <td id=\"T_1f8a5372_5cfe_11e8_b74a_0242ac110002row2_col4\" class=\"data row2 col4\" >0.73639</td> \n",
              "    </tr>    <tr> \n",
              "        <th id=\"T_1f8a5372_5cfe_11e8_b74a_0242ac110002level0_row3\" class=\"row_heading level0 row3\" >X3</th> \n",
              "        <td id=\"T_1f8a5372_5cfe_11e8_b74a_0242ac110002row3_col0\" class=\"data row3 col0\" >0.064581</td> \n",
              "        <td id=\"T_1f8a5372_5cfe_11e8_b74a_0242ac110002row3_col1\" class=\"data row3 col1\" >0.07236</td> \n",
              "        <td id=\"T_1f8a5372_5cfe_11e8_b74a_0242ac110002row3_col2\" class=\"data row3 col2\" >-0.1201</td> \n",
              "        <td id=\"T_1f8a5372_5cfe_11e8_b74a_0242ac110002row3_col3\" class=\"data row3 col3\" >1.0</td> \n",
              "        <td id=\"T_1f8a5372_5cfe_11e8_b74a_0242ac110002row3_col4\" class=\"data row3 col4\" >-0.03849</td> \n",
              "    </tr>    <tr> \n",
              "        <th id=\"T_1f8a5372_5cfe_11e8_b74a_0242ac110002level0_row4\" class=\"row_heading level0 row4\" >X4</th> \n",
              "        <td id=\"T_1f8a5372_5cfe_11e8_b74a_0242ac110002row4_col0\" class=\"data row4 col0\" >0.98266</td> \n",
              "        <td id=\"T_1f8a5372_5cfe_11e8_b74a_0242ac110002row4_col1\" class=\"data row4 col1\" >0.74686</td> \n",
              "        <td id=\"T_1f8a5372_5cfe_11e8_b74a_0242ac110002row4_col2\" class=\"data row4 col2\" >0.73639</td> \n",
              "        <td id=\"T_1f8a5372_5cfe_11e8_b74a_0242ac110002row4_col3\" class=\"data row4 col3\" >-0.03849</td> \n",
              "        <td id=\"T_1f8a5372_5cfe_11e8_b74a_0242ac110002row4_col4\" class=\"data row4 col4\" >1.0</td> \n",
              "    </tr></tbody> \n",
              "</table> "
            ],
            "text/plain": [
              "<pandas.io.formats.style.Styler at 0x7fae32d8ab70>"
            ]
          },
          "metadata": {
            "tags": []
          },
          "execution_count": 52
        }
      ]
    },
    {
      "metadata": {
        "id": "546d-LqN91-G",
        "colab_type": "text"
      },
      "cell_type": "markdown",
      "source": [
        "***Finding***: \n",
        "\n",
        "\n",
        "*   There seems to be positive correlation between Y and all the input variables. Wheres it is strong in case of X4, and weak with X3.\n",
        "*   ***Multicollinearity***, will cause coefficient estimates to be less reliable. We can see that X1 and X2 strongly correlated with X4.\n",
        "\n",
        "\n",
        "\n"
      ]
    },
    {
      "metadata": {
        "id": "5I6R3H4yLxua",
        "colab_type": "text"
      },
      "cell_type": "markdown",
      "source": [
        "**MULTIPLE REGRESSION ANALYSIS **"
      ]
    },
    {
      "metadata": {
        "id": "QDT0EHSrLxub",
        "colab_type": "text"
      },
      "cell_type": "markdown",
      "source": [
        "The correlation analysis showed that some of the soil variables were highly interrelated **however it is not known how important these variables were in explaining the variations in fruits weight.** For that we need regression."
      ]
    },
    {
      "metadata": {
        "id": "s-XhUOaMLxud",
        "colab_type": "code",
        "colab": {
          "autoexec": {
            "startup": false,
            "wait_interval": 0
          },
          "base_uri": "https://localhost:8080/",
          "height": 521
        },
        "outputId": "0d7e020a-124a-4973-f4c6-c6f3d9a9024e",
        "executionInfo": {
          "status": "ok",
          "timestamp": 1526914331452,
          "user_tz": -60,
          "elapsed": 521,
          "user": {
            "displayName": "mohammed Ibrahim",
            "photoUrl": "//lh5.googleusercontent.com/-dcFlmF-U62U/AAAAAAAAAAI/AAAAAAAAADk/KSlRxQEo9To/s50-c-k-no/photo.jpg",
            "userId": "106544428892476440731"
          }
        }
      },
      "cell_type": "code",
      "source": [
        "import statsmodels.api as sm\n",
        "\n",
        "X= df.drop([ 'Y'],axis=1)\n",
        "\n",
        "X = sm.add_constant(X) \n",
        "\n",
        "model = sm.OLS(df.Y, X).fit()\n",
        "\n",
        "print (model.summary())\n"
      ],
      "execution_count": 0,
      "outputs": [
        {
          "output_type": "stream",
          "text": [
            "                            OLS Regression Results                            \n",
            "==============================================================================\n",
            "Dep. Variable:                      Y   R-squared:                       0.999\n",
            "Model:                            OLS   Adj. R-squared:                  0.999\n",
            "Method:                 Least Squares   F-statistic:                     8363.\n",
            "Date:                Mon, 21 May 2018   Prob (F-statistic):           3.90e-54\n",
            "Time:                        14:53:07   Log-Likelihood:                -66.034\n",
            "No. Observations:                  42   AIC:                             142.1\n",
            "Df Residuals:                      37   BIC:                             150.8\n",
            "Df Model:                           4                                         \n",
            "Covariance Type:            nonrobust                                         \n",
            "==============================================================================\n",
            "                 coef    std err          t      P>|t|      [0.025      0.975]\n",
            "------------------------------------------------------------------------------\n",
            "const          5.4705      0.502     10.892      0.000       4.453       6.488\n",
            "X1            52.1640     40.219      1.297      0.203     -29.327     133.655\n",
            "X2            51.7065     40.221      1.286      0.207     -29.789     133.202\n",
            "X3             2.6959      0.075     35.786      0.000       2.543       2.849\n",
            "X4           -56.8476     50.272     -1.131      0.265    -158.709      45.014\n",
            "==============================================================================\n",
            "Omnibus:                        5.941   Durbin-Watson:                   2.282\n",
            "Prob(Omnibus):                  0.051   Jarque-Bera (JB):                5.522\n",
            "Skew:                          -0.484   Prob(JB):                       0.0632\n",
            "Kurtosis:                       4.490   Cond. No.                     4.96e+03\n",
            "==============================================================================\n",
            "\n",
            "Warnings:\n",
            "[1] Standard Errors assume that the covariance matrix of the errors is correctly specified.\n",
            "[2] The condition number is large, 4.96e+03. This might indicate that there are\n",
            "strong multicollinearity or other numerical problems.\n"
          ],
          "name": "stdout"
        }
      ]
    },
    {
      "metadata": {
        "id": "la1FLYx2Lxuk",
        "colab_type": "text"
      },
      "cell_type": "markdown",
      "source": [
        "**Finding: **\n",
        "\n",
        "\n",
        "*   Again F-statistics was significant and the overall explanatory power of the equation as in R2 is 99% which is very high.\n",
        "*   All coefficients of X3 & X4 are non zero.\n",
        "*   t-values for X3 & X2 &X1 are not siginificant different from zero. Especially in the previous question we found when X3 and X4 were included only, the t-value were much higher.\n",
        "\n",
        "\n",
        "\n",
        "* ***This means the model had no satisfactory predictive ability due to the inclusion of some unimportant or redundant explanatory variables in the equation.***\n",
        "\n",
        "\n",
        "\n",
        "* **Which means not all four variables are required to ‘explain’ Y.**\n",
        "\n",
        "\n",
        "\n",
        "\n"
      ]
    }
  ]
}